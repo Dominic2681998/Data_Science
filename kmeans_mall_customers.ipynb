{
  "nbformat": 4,
  "nbformat_minor": 0,
  "metadata": {
    "colab": {
      "name": "kmeans-mall_customers.ipynb",
      "provenance": [],
      "authorship_tag": "ABX9TyN/MEHg8m5spU/GALtEX9cb",
      "include_colab_link": true
    },
    "kernelspec": {
      "name": "python3",
      "display_name": "Python 3"
    },
    "language_info": {
      "name": "python"
    }
  },
  "cells": [
    {
      "cell_type": "markdown",
      "metadata": {
        "id": "view-in-github",
        "colab_type": "text"
      },
      "source": [
        "<a href=\"https://colab.research.google.com/github/Dominic2681998/Data_Science/blob/main/kmeans_mall_customers.ipynb\" target=\"_parent\"><img src=\"https://colab.research.google.com/assets/colab-badge.svg\" alt=\"Open In Colab\"/></a>"
      ]
    },
    {
      "cell_type": "code",
      "execution_count": null,
      "metadata": {
        "id": "WPn4UAOMDxR0"
      },
      "outputs": [],
      "source": [
        "import pandas as pd\n",
        "dataset = pd.read_csv('mall_customers.csv')"
      ]
    },
    {
      "cell_type": "code",
      "source": [
        "# spliting columns\n",
        "\n",
        "x = dataset.iloc[:, [3, 4]].values"
      ],
      "metadata": {
        "id": "gYpywyM8D_JR"
      },
      "execution_count": null,
      "outputs": []
    },
    {
      "cell_type": "code",
      "source": [
        "from sklearn.cluster import KMeans\n",
        "import matplotlib.pyplot as plt\n",
        "wcss = [] #empty array\n",
        "for i in range(1,11):\n",
        "    kmeans = KMeans(n_clusters = i, init = 'k-means++', random_state = 42)\n",
        "    kmeans.fit(x)\n",
        "    wcss.append(kmeans.inertia_)\n",
        "plt.plot(range(1, 11), wcss)\n",
        "plt.title('The Elbow Method')\n",
        "plt.xlabel('No.of clusters')\n",
        "plt.ylabel('WCSS \\ Inertia')\n",
        "\n",
        "#The bend (or elbow) here at K = 5 indicates the optimal number of cluster\n",
        "plt.annotate('Elbow', xy=(5, 50000), xytext=(6, 100000), arrowprops=dict(facecolor='black', shrink=0.05))\n",
        "\n",
        "plt.show()"
      ],
      "metadata": {
        "id": "NBsM_vrxEBeR",
        "outputId": "9e702682-3ed6-4833-8cc2-b3da2c36eeea",
        "colab": {
          "base_uri": "https://localhost:8080/",
          "height": 295
        }
      },
      "execution_count": null,
      "outputs": [
        {
          "output_type": "display_data",
          "data": {
            "text/plain": [
              "<Figure size 432x288 with 1 Axes>"
            ],
            "image/png": "[encoded data removed]"
          },
          "metadata": {
            "needs_background": "light"
          }
        }
      ]
    },
    {
      "cell_type": "code",
      "source": [
        "kmeans = KMeans(n_clusters = 5, init = \"k-means++\", random_state=42)\n",
        "y_pred = kmeans.fit_predict(x)"
      ],
      "metadata": {
        "id": "DOmpOe7yEE6M"
      },
      "execution_count": null,
      "outputs": []
    }
  ]
}